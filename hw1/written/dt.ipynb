{
 "cells": [
  {
   "cell_type": "code",
   "execution_count": 2,
   "metadata": {},
   "outputs": [],
   "source": [
    "import pandas as pd\n",
    "import numpy as np\n",
    "\n",
    "# Read the data\n",
    "id3_dataset = pd.read_csv('prof.csv')\n",
    "id3_dataset\n",
    "# Calculate the entropy of the target 'Worth Taking'\n",
    "def entropy(target):\n",
    "    elements, counts = np.unique(target['Worth Taking'], return_counts = True)\n",
    "    entropy = np.sum([(-counts[i]/np.sum(counts))*np.log2(counts[i]/np.sum(counts))for i in range(len(elements))])\n",
    "    return entropy\n",
    "\n",
    "def information_gain(target, col):\n",
    "    H = entropy(target)\n",
    "    elements = np.unique(target[col])\n",
    "    total = []\n",
    "    for el in elements:\n",
    "        class_df = target[target[col] == el]\n",
    "        weight = len(class_df)/len(target)\n",
    "        total.append(weight*entropy(class_df))\n",
    "    IG = H - sum(total)\n",
    "    return IG\n",
    "\n",
    "def is_done(df):\n",
    "    # Check if all data is in the same class\n",
    "    if len(df['Worth Taking'].unique()) == 1:\n",
    "        print(f'make leaf node with class value as output: {df[\"Worth Taking\"].iloc[0]}')\n",
    "    # Check if all data has the same attributes in all columns\n",
    "    elif all(df.nunique() == 1):\n",
    "        majority = df['Worth Taking'].value_counts().idxmax()\n",
    "        print(f'make leaf node with majority of class values in Y as output: {majority}')\n",
    "    else:\n",
    "        print('okay')"
   ]
  },
  {
   "cell_type": "markdown",
   "metadata": {},
   "source": [
    "## First split"
   ]
  },
  {
   "cell_type": "code",
   "execution_count": 3,
   "metadata": {},
   "outputs": [
    {
     "data": {
      "text/plain": [
       "[0.04812703040826949,\n",
       " 0.24674981977443933,\n",
       " 0.02922256565895487,\n",
       " 0.15183550136234159]"
      ]
     },
     "execution_count": 3,
     "metadata": {},
     "output_type": "execute_result"
    }
   ],
   "source": [
    "[\n",
    "information_gain(id3_dataset, 'Personality'), \n",
    "information_gain(id3_dataset, 'Difficulty'),\n",
    "information_gain(id3_dataset, 'RMP Reviews'),\n",
    "information_gain(id3_dataset, 'Easy A')\n",
    "]"
   ]
  },
  {
   "cell_type": "markdown",
   "metadata": {},
   "source": [
    "RMP Reviews wins"
   ]
  },
  {
   "cell_type": "code",
   "execution_count": 4,
   "metadata": {},
   "outputs": [
    {
     "name": "stdout",
     "output_type": "stream",
     "text": [
      "okay\n",
      "okay\n",
      "make leaf node with class value as output: -\n"
     ]
    }
   ],
   "source": [
    "d_difficulty_low = id3_dataset[id3_dataset['Difficulty'] == 'Low']\n",
    "is_done(d_difficulty_low)\n",
    "d_difficulty_med = id3_dataset[id3_dataset['Difficulty'] == 'Medium']\n",
    "is_done(d_difficulty_med)\n",
    "d_difficulty_high = id3_dataset[id3_dataset['Difficulty'] == 'High']\n",
    "is_done(d_difficulty_high)"
   ]
  },
  {
   "cell_type": "code",
   "execution_count": 5,
   "metadata": {},
   "outputs": [
    {
     "data": {
      "text/plain": [
       "[0.9709505944546686, 0.01997309402197489, 0.01997309402197489]"
      ]
     },
     "execution_count": 5,
     "metadata": {},
     "output_type": "execute_result"
    }
   ],
   "source": [
    "[\n",
    "information_gain(d_difficulty_low, 'Personality'), \n",
    "information_gain(d_difficulty_low, 'RMP Reviews'),\n",
    "information_gain(d_difficulty_low, 'Easy A')\n",
    "]"
   ]
  },
  {
   "cell_type": "code",
   "execution_count": 6,
   "metadata": {},
   "outputs": [
    {
     "name": "stdout",
     "output_type": "stream",
     "text": [
      "make leaf node with class value as output: -\n",
      "make leaf node with class value as output: +\n"
     ]
    }
   ],
   "source": [
    "d_difficulty_low_personality_hilarious = d_difficulty_low[d_difficulty_low['Personality'] == 'Hilarious']\n",
    "is_done(d_difficulty_low_personality_hilarious)\n",
    "d_difficulty_low_personality_boring = d_difficulty_low[d_difficulty_low['Personality'] == 'Boring']\n",
    "is_done(d_difficulty_low_personality_boring)"
   ]
  },
  {
   "cell_type": "code",
   "execution_count": 7,
   "metadata": {},
   "outputs": [
    {
     "data": {
      "text/plain": [
       "[0.01997309402197489, 0.5709505944546686, 0.9709505944546686]"
      ]
     },
     "execution_count": 7,
     "metadata": {},
     "output_type": "execute_result"
    }
   ],
   "source": [
    "[\n",
    "information_gain(d_difficulty_med, 'Personality'), \n",
    "information_gain(d_difficulty_med, 'RMP Reviews'),\n",
    "information_gain(d_difficulty_med, 'Easy A')\n",
    "]"
   ]
  },
  {
   "cell_type": "code",
   "execution_count": 8,
   "metadata": {},
   "outputs": [
    {
     "name": "stdout",
     "output_type": "stream",
     "text": [
      "make leaf node with class value as output: -\n",
      "make leaf node with class value as output: +\n"
     ]
    }
   ],
   "source": [
    "d_difficulty_med_easya_yes = d_difficulty_med[d_difficulty_med['Easy A'] == 'Yes']\n",
    "is_done(d_difficulty_med_easya_yes)\n",
    "d_difficulty_med_easya_no = d_difficulty_med[d_difficulty_med['Easy A'] == 'No']\n",
    "is_done(d_difficulty_med_easya_no)"
   ]
  },
  {
   "cell_type": "code",
   "execution_count": 11,
   "metadata": {},
   "outputs": [
    {
     "name": "stdout",
     "output_type": "stream",
     "text": [
      "Difficulty\n",
      "-- Low --\n",
      "   Personality\n",
      "   -- Hilarious --\n",
      "      Leaf: -\n",
      "   -- Boring --\n",
      "      Leaf: +\n",
      "-- Medium --\n",
      "   Easy A\n",
      "   -- No --\n",
      "      Leaf: +\n",
      "   -- Yes --\n",
      "      Leaf: -\n",
      "-- High --\n",
      "   Leaf: -\n",
      "\n"
     ]
    }
   ],
   "source": [
    "# Read the uploaded data\n",
    "df = id3_dataset\n",
    "\n",
    "# Function to create ASCII representation of the decision tree\n",
    "def ascii_tree(df, depth=0, prefix=\"\"):\n",
    "    # Base Cases\n",
    "    if len(df['Worth Taking'].unique()) == 1:\n",
    "        return f\"{prefix}Leaf: {df['Worth Taking'].iloc[0]}\\n\"\n",
    "    elif all(df.nunique() == 1):\n",
    "        majority = df['Worth Taking'].value_counts().idxmax()\n",
    "        return f\"{prefix}Leaf: {majority}\\n\"\n",
    "    \n",
    "    # Get the attribute with max information gain\n",
    "    gains = {col: information_gain(df, col) for col in df.columns if col != 'Worth Taking'}\n",
    "    best_attr = max(gains, key=gains.get)\n",
    "    \n",
    "    result = f\"{prefix}{best_attr}\\n\"\n",
    "    \n",
    "    # Split the dataset and continue recursion\n",
    "    for value in df[best_attr].unique():\n",
    "        sub_df = df[df[best_attr] == value].drop([best_attr], axis=1)\n",
    "        result += f\"{prefix}-- {value} --\\n\"\n",
    "        result += ascii_tree(sub_df, depth + 1, prefix + \"   \")\n",
    "    \n",
    "    return result\n",
    "\n",
    "# Generate ASCII tree\n",
    "ascii_output = ascii_tree(df)\n",
    "print(ascii_output)"
   ]
  }
 ],
 "metadata": {
  "kernelspec": {
   "display_name": "base",
   "language": "python",
   "name": "python3"
  },
  "language_info": {
   "codemirror_mode": {
    "name": "ipython",
    "version": 3
   },
   "file_extension": ".py",
   "mimetype": "text/x-python",
   "name": "python",
   "nbconvert_exporter": "python",
   "pygments_lexer": "ipython3",
   "version": "3.9.15"
  },
  "orig_nbformat": 4
 },
 "nbformat": 4,
 "nbformat_minor": 2
}
