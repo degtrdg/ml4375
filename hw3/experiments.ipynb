{
 "cells": [
  {
   "cell_type": "code",
   "execution_count": 9,
   "metadata": {},
   "outputs": [
    {
     "data": {
      "text/plain": [
       "(-15.035522334160394, 13.531394357106361, -22.792693310267712, 21.523137399345)"
      ]
     },
     "execution_count": 9,
     "metadata": {},
     "output_type": "execute_result"
    }
   ],
   "source": [
    "# Import necessary libraries\n",
    "import numpy as np\n",
    "import random\n",
    "\n",
    "# Define constants and variables for the environment\n",
    "GRAVITY = 9.8\n",
    "MASSCART = 1.0\n",
    "MASSPOLE = 0.1\n",
    "TOTAL_MASS = (MASSPOLE + MASSCART)\n",
    "LENGTH = 0.5  # actually half the pole's length\n",
    "POLEMASS_LENGTH = (MASSPOLE * LENGTH)\n",
    "FORCE_MAG = 10.0\n",
    "TAU = 0.02  # seconds between state updates\n",
    "FOURTHIRDS = 1.3333333333333\n",
    "FORWARD_ACCEL = 1\n",
    "BACKWARD_ACCEL = 0\n",
    "\n",
    "# Initialize variables to hold min and max values for x_dot and theta_dot\n",
    "min_x_dot = float('inf')\n",
    "max_x_dot = float('-inf')\n",
    "min_theta_dot = float('inf')\n",
    "max_theta_dot = float('-inf')\n",
    "\n",
    "# Initialize state variables\n",
    "x = 0  # cart position, meters\n",
    "x_dot = 0  # cart velocity\n",
    "theta = 0  # pole angle, radians\n",
    "theta_dot = 0  # pole angular velocity\n",
    "\n",
    "# Number of episodes and steps\n",
    "num_episodes = 1000\n",
    "steps_per_episode = 500\n",
    "\n",
    "# Run experiments\n",
    "for episode in range(num_episodes):\n",
    "    # Reset state variables for each episode\n",
    "    x = 0\n",
    "    x_dot = 0\n",
    "    theta = 0\n",
    "    theta_dot = 0\n",
    "    \n",
    "    for step in range(steps_per_episode):\n",
    "        # Randomly choose an action\n",
    "        action = random.choice([FORWARD_ACCEL, BACKWARD_ACCEL])\n",
    "        force = FORCE_MAG if action == FORWARD_ACCEL else -FORCE_MAG\n",
    "        \n",
    "        # Compute the dynamics based on the chosen action\n",
    "        costheta = np.cos(theta)\n",
    "        sintheta = np.sin(theta)\n",
    "        temp = (force + POLEMASS_LENGTH * theta_dot * theta_dot * sintheta) / TOTAL_MASS \n",
    "        thetaacc = (GRAVITY * sintheta - costheta * temp) / (LENGTH * (FOURTHIRDS - MASSPOLE * costheta ** 2 / TOTAL_MASS))\n",
    "        xacc = temp - POLEMASS_LENGTH * thetaacc * costheta / TOTAL_MASS\n",
    "        \n",
    "        # Update state variables\n",
    "        x += TAU * x_dot\n",
    "        x_dot += TAU * xacc\n",
    "        theta += TAU * theta_dot\n",
    "        theta_dot += TAU * thetaacc\n",
    "        \n",
    "        # Update min and max values for x_dot and theta_dot\n",
    "        min_x_dot = min(min_x_dot, x_dot)\n",
    "        max_x_dot = max(max_x_dot, x_dot)\n",
    "        min_theta_dot = min(min_theta_dot, theta_dot)\n",
    "        max_theta_dot = max(max_theta_dot, theta_dot)\n",
    "\n",
    "# (-12.205731491864713, 18.423629894626753, -22.4008755453083, 21.28849621137446)\n",
    "# (-13.637096912486705, 13.825639526123526, -21.284192885129993, 23.542628727608783)\n",
    "min_x_dot, max_x_dot, min_theta_dot, max_theta_dot"
   ]
  }
 ],
 "metadata": {
  "kernelspec": {
   "display_name": "b11",
   "language": "python",
   "name": "python3"
  },
  "language_info": {
   "codemirror_mode": {
    "name": "ipython",
    "version": 3
   },
   "file_extension": ".py",
   "mimetype": "text/x-python",
   "name": "python",
   "nbconvert_exporter": "python",
   "pygments_lexer": "ipython3",
   "version": "3.11.5"
  }
 },
 "nbformat": 4,
 "nbformat_minor": 2
}
