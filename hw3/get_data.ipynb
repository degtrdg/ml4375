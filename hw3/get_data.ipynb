{
 "cells": [
  {
   "cell_type": "code",
   "execution_count": 1,
   "metadata": {},
   "outputs": [
    {
     "name": "stderr",
     "output_type": "stream",
     "text": [
      "--2023-09-30 20:37:25--  https://www.hlt.utdallas.edu/~vince/cs4375/assignments/hw3/sample_output.txt\n",
      "Resolving www.hlt.utdallas.edu (www.hlt.utdallas.edu)... 129.110.131.21\n",
      "Connecting to www.hlt.utdallas.edu (www.hlt.utdallas.edu)|129.110.131.21|:443... connected.\n",
      "WARNING: cannot verify www.hlt.utdallas.edu's certificate, issued by ‘CN=InCommon RSA Server CA,OU=InCommon,O=Internet2,L=Ann Arbor,ST=MI,C=US’:\n",
      "  Unable to locally verify the issuer's authority.\n",
      "HTTP request sent, awaiting response... 200 OK\n",
      "Length: 13974 (14K) [text/plain]\n",
      "Saving to: ‘./output/sample_output.txt’\n",
      "\n",
      "     0K .......... ...                                        100%  133M=0s\n",
      "\n",
      "2023-09-30 20:37:25 (133 MB/s) - ‘./output/sample_output.txt’ saved [13974/13974]\n",
      "\n",
      "--2023-09-30 20:37:25--  https://www.hlt.utdallas.edu/~vince/cs4375/assignments/hw3/sample_output2.txt\n",
      "Resolving www.hlt.utdallas.edu (www.hlt.utdallas.edu)... 129.110.131.21\n",
      "Connecting to www.hlt.utdallas.edu (www.hlt.utdallas.edu)|129.110.131.21|:443... connected.\n",
      "WARNING: cannot verify www.hlt.utdallas.edu's certificate, issued by ‘CN=InCommon RSA Server CA,OU=InCommon,O=Internet2,L=Ann Arbor,ST=MI,C=US’:\n",
      "  Unable to locally verify the issuer's authority.\n",
      "HTTP request sent, awaiting response... 200 OK\n",
      "Length: 13974 (14K) [text/plain]\n",
      "Saving to: ‘./output/sample_output2.txt’\n",
      "\n",
      "     0K .......... ...                                        100%  823K=0.02s\n",
      "\n",
      "2023-09-30 20:37:25 (823 KB/s) - ‘./output/sample_output2.txt’ saved [13974/13974]\n",
      "\n"
     ]
    }
   ],
   "source": [
    "import os\n",
    "outputs =  ['https://www.hlt.utdallas.edu/~vince/cs4375/assignments/hw3/sample_output.txt', 'https://www.hlt.utdallas.edu/~vince/cs4375/assignments/hw3/sample_output2.txt']\n",
    "# Put output files in ./output\n",
    "!mkdir output\n",
    "for i in outputs:\n",
    "    os.system('wget -P ./output ' + i + ' --no-check-certificate')"
   ]
  }
 ],
 "metadata": {
  "kernelspec": {
   "display_name": "base",
   "language": "python",
   "name": "python3"
  },
  "language_info": {
   "codemirror_mode": {
    "name": "ipython",
    "version": 3
   },
   "file_extension": ".py",
   "mimetype": "text/x-python",
   "name": "python",
   "nbconvert_exporter": "python",
   "pygments_lexer": "ipython3",
   "version": "3.11.5"
  },
  "orig_nbformat": 4
 },
 "nbformat": 4,
 "nbformat_minor": 2
}
