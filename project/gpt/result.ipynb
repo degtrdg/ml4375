{
 "cells": [
  {
   "cell_type": "code",
   "execution_count": 1,
   "metadata": {},
   "outputs": [],
   "source": [
    "import pandas as pd\n",
    "\n",
    "checkpoint_file = 'checkpoints/data50.csv'\n",
    "checkpoint_df = pd.read_csv(checkpoint_file)"
   ]
  },
  {
   "cell_type": "code",
   "execution_count": 2,
   "metadata": {},
   "outputs": [
    {
     "data": {
      "text/html": [
       "<div>\n",
       "<style scoped>\n",
       "    .dataframe tbody tr th:only-of-type {\n",
       "        vertical-align: middle;\n",
       "    }\n",
       "\n",
       "    .dataframe tbody tr th {\n",
       "        vertical-align: top;\n",
       "    }\n",
       "\n",
       "    .dataframe thead th {\n",
       "        text-align: right;\n",
       "    }\n",
       "</style>\n",
       "<table border=\"1\" class=\"dataframe\">\n",
       "  <thead>\n",
       "    <tr style=\"text-align: right;\">\n",
       "      <th></th>\n",
       "      <th>Unnamed: 0</th>\n",
       "      <th>text</th>\n",
       "      <th>image_caption</th>\n",
       "      <th>surface_message</th>\n",
       "      <th>background_knowledge</th>\n",
       "      <th>A</th>\n",
       "      <th>B</th>\n",
       "      <th>C</th>\n",
       "      <th>D</th>\n",
       "      <th>answer</th>\n",
       "      <th>expert_label</th>\n",
       "      <th>prompt</th>\n",
       "      <th>result_text</th>\n",
       "      <th>predicted_answer</th>\n",
       "    </tr>\n",
       "  </thead>\n",
       "  <tbody>\n",
       "    <tr>\n",
       "      <th>6</th>\n",
       "      <td>6</td>\n",
       "      <td>throws people into gas chambers evil throws pe...</td>\n",
       "      <td>It is an image depicting two portraits of peop...</td>\n",
       "      <td>It is an image depicting two portraits of peop...</td>\n",
       "      <td>In World War II, Adolf Hitler, the leader of G...</td>\n",
       "      <td>The author is comparing Hitler and Jesus, sugg...</td>\n",
       "      <td>The meme is trying to make a point about the s...</td>\n",
       "      <td>The author is highlighting the hipocracy of th...</td>\n",
       "      <td>Jesus is as evil as Hitler.</td>\n",
       "      <td>C</td>\n",
       "      <td>H</td>\n",
       "      <td>You are given a first-hand account of informat...</td>\n",
       "      <td>The meme in question compares Hitler and Jesus...</td>\n",
       "      <td>N</td>\n",
       "    </tr>\n",
       "    <tr>\n",
       "      <th>14</th>\n",
       "      <td>14</td>\n",
       "      <td>six kids, no husband, no job, and food stamps ...</td>\n",
       "      <td>It is an image of two women and two children p...</td>\n",
       "      <td>It is an image of two women and two children p...</td>\n",
       "      <td>Food stamps and tax back programs enroll many ...</td>\n",
       "      <td>The author is making a negative assumption abo...</td>\n",
       "      <td>People who receive food stamps and tax backs a...</td>\n",
       "      <td>The meme is criticizing the government's welfa...</td>\n",
       "      <td>Government relief programs make people lazy an...</td>\n",
       "      <td>D</td>\n",
       "      <td>H</td>\n",
       "      <td>You are given a first-hand account of informat...</td>\n",
       "      <td>Based on the information provided, the meme do...</td>\n",
       "      <td>N</td>\n",
       "    </tr>\n",
       "    <tr>\n",
       "      <th>23</th>\n",
       "      <td>23</td>\n",
       "      <td>\"no, this is no good. you could fit a mexican ...</td>\n",
       "      <td>It is an image of 5 people sitting on top of a...</td>\n",
       "      <td>It is an image of 5 people sitting on top of a...</td>\n",
       "      <td>Knowledge of the debate surrounding immigratio...</td>\n",
       "      <td>The current border wall is not effective in pr...</td>\n",
       "      <td>The author is making a sarcastic comment about...</td>\n",
       "      <td>The meme is making fun of the immigration deba...</td>\n",
       "      <td>The wall depicted is not good enough to preven...</td>\n",
       "      <td>D</td>\n",
       "      <td>N</td>\n",
       "      <td>You are given a first-hand account of informat...</td>\n",
       "      <td>Based on the given information, it appears tha...</td>\n",
       "      <td>H</td>\n",
       "    </tr>\n",
       "    <tr>\n",
       "      <th>35</th>\n",
       "      <td>35</td>\n",
       "      <td>if this is what they call pride.. then i don't...</td>\n",
       "      <td>An image of a man holding a rainbow flag at a ...</td>\n",
       "      <td>An image of a man holding a rainbow flag at a ...</td>\n",
       "      <td>The rainbow flag is associated with LGBTQ people.</td>\n",
       "      <td>The author is suggesting that pride is a negat...</td>\n",
       "      <td>Homosexuality is something to be ashamed of.</td>\n",
       "      <td>The author is expressing disdain for the LGBTQ...</td>\n",
       "      <td>The meme is mocking LGBTQ people and their pride.</td>\n",
       "      <td>B</td>\n",
       "      <td>H</td>\n",
       "      <td>You are given a first-hand account of informat...</td>\n",
       "      <td>The given meme contains a text that says \"if t...</td>\n",
       "      <td>N</td>\n",
       "    </tr>\n",
       "    <tr>\n",
       "      <th>37</th>\n",
       "      <td>37</td>\n",
       "      <td>voting for hillary is like letting casey antho...</td>\n",
       "      <td>The first image is a picture of Hillary Clinto...</td>\n",
       "      <td>The first image is a picture of Hillary Clinto...</td>\n",
       "      <td>Hillary Clinton was a presidential candidate. ...</td>\n",
       "      <td>Voting for Hillary Clinton is like trusting so...</td>\n",
       "      <td>Voting for Hillary Clinton is like trusting so...</td>\n",
       "      <td>People should not vote for Hillary Clinton bec...</td>\n",
       "      <td>Voting for Hillary Clinton is like letting Cas...</td>\n",
       "      <td>C</td>\n",
       "      <td>N</td>\n",
       "      <td>You are given a first-hand account of informat...</td>\n",
       "      <td>Based on the information provided, the meme in...</td>\n",
       "      <td>H</td>\n",
       "    </tr>\n",
       "    <tr>\n",
       "      <th>40</th>\n",
       "      <td>40</td>\n",
       "      <td>with black power comes no responsibility.</td>\n",
       "      <td>It is an image of a black man in a suiting sit...</td>\n",
       "      <td>It is an image of a black man in a suiting sit...</td>\n",
       "      <td>The Black Power movement was a movement in the...</td>\n",
       "      <td>Black people are irresponsible and should not ...</td>\n",
       "      <td>The meme is suggesting that the Black Power mo...</td>\n",
       "      <td>The author is suggesting that the man in the i...</td>\n",
       "      <td>The meme is making fun of the Black Power move...</td>\n",
       "      <td>A</td>\n",
       "      <td>H</td>\n",
       "      <td>You are given a first-hand account of informat...</td>\n",
       "      <td>The meme states \"with black power comes no res...</td>\n",
       "      <td>N</td>\n",
       "    </tr>\n",
       "    <tr>\n",
       "      <th>46</th>\n",
       "      <td>46</td>\n",
       "      <td>when instincts take over.</td>\n",
       "      <td>It is an image of a black man sitting in front...</td>\n",
       "      <td>It is an image of a black man sitting in front...</td>\n",
       "      <td>1. Understanding dehumanizing racial stereotyp...</td>\n",
       "      <td>Black people are like monkeys.</td>\n",
       "      <td>The author is making a racist joke by implying...</td>\n",
       "      <td>African Americans are closer to monkeys than p...</td>\n",
       "      <td>The meme is perpetuating a racial stereotype.</td>\n",
       "      <td>C</td>\n",
       "      <td>H</td>\n",
       "      <td>You are given a first-hand account of informat...</td>\n",
       "      <td>Based on the information given, it may be reas...</td>\n",
       "      <td>N</td>\n",
       "    </tr>\n",
       "  </tbody>\n",
       "</table>\n",
       "</div>"
      ],
      "text/plain": [
       "    Unnamed: 0                                               text  \\\n",
       "6            6  throws people into gas chambers evil throws pe...   \n",
       "14          14  six kids, no husband, no job, and food stamps ...   \n",
       "23          23  \"no, this is no good. you could fit a mexican ...   \n",
       "35          35  if this is what they call pride.. then i don't...   \n",
       "37          37  voting for hillary is like letting casey antho...   \n",
       "40          40          with black power comes no responsibility.   \n",
       "46          46                          when instincts take over.   \n",
       "\n",
       "                                        image_caption  \\\n",
       "6   It is an image depicting two portraits of peop...   \n",
       "14  It is an image of two women and two children p...   \n",
       "23  It is an image of 5 people sitting on top of a...   \n",
       "35  An image of a man holding a rainbow flag at a ...   \n",
       "37  The first image is a picture of Hillary Clinto...   \n",
       "40  It is an image of a black man in a suiting sit...   \n",
       "46  It is an image of a black man sitting in front...   \n",
       "\n",
       "                                      surface_message  \\\n",
       "6   It is an image depicting two portraits of peop...   \n",
       "14  It is an image of two women and two children p...   \n",
       "23  It is an image of 5 people sitting on top of a...   \n",
       "35  An image of a man holding a rainbow flag at a ...   \n",
       "37  The first image is a picture of Hillary Clinto...   \n",
       "40  It is an image of a black man in a suiting sit...   \n",
       "46  It is an image of a black man sitting in front...   \n",
       "\n",
       "                                 background_knowledge  \\\n",
       "6   In World War II, Adolf Hitler, the leader of G...   \n",
       "14  Food stamps and tax back programs enroll many ...   \n",
       "23  Knowledge of the debate surrounding immigratio...   \n",
       "35  The rainbow flag is associated with LGBTQ people.   \n",
       "37  Hillary Clinton was a presidential candidate. ...   \n",
       "40  The Black Power movement was a movement in the...   \n",
       "46  1. Understanding dehumanizing racial stereotyp...   \n",
       "\n",
       "                                                    A  \\\n",
       "6   The author is comparing Hitler and Jesus, sugg...   \n",
       "14  The author is making a negative assumption abo...   \n",
       "23  The current border wall is not effective in pr...   \n",
       "35  The author is suggesting that pride is a negat...   \n",
       "37  Voting for Hillary Clinton is like trusting so...   \n",
       "40  Black people are irresponsible and should not ...   \n",
       "46                     Black people are like monkeys.   \n",
       "\n",
       "                                                    B  \\\n",
       "6   The meme is trying to make a point about the s...   \n",
       "14  People who receive food stamps and tax backs a...   \n",
       "23  The author is making a sarcastic comment about...   \n",
       "35       Homosexuality is something to be ashamed of.   \n",
       "37  Voting for Hillary Clinton is like trusting so...   \n",
       "40  The meme is suggesting that the Black Power mo...   \n",
       "46  The author is making a racist joke by implying...   \n",
       "\n",
       "                                                    C  \\\n",
       "6   The author is highlighting the hipocracy of th...   \n",
       "14  The meme is criticizing the government's welfa...   \n",
       "23  The meme is making fun of the immigration deba...   \n",
       "35  The author is expressing disdain for the LGBTQ...   \n",
       "37  People should not vote for Hillary Clinton bec...   \n",
       "40  The author is suggesting that the man in the i...   \n",
       "46  African Americans are closer to monkeys than p...   \n",
       "\n",
       "                                                    D answer expert_label  \\\n",
       "6                         Jesus is as evil as Hitler.      C            H   \n",
       "14  Government relief programs make people lazy an...      D            H   \n",
       "23  The wall depicted is not good enough to preven...      D            N   \n",
       "35  The meme is mocking LGBTQ people and their pride.      B            H   \n",
       "37  Voting for Hillary Clinton is like letting Cas...      C            N   \n",
       "40  The meme is making fun of the Black Power move...      A            H   \n",
       "46      The meme is perpetuating a racial stereotype.      C            H   \n",
       "\n",
       "                                               prompt  \\\n",
       "6   You are given a first-hand account of informat...   \n",
       "14  You are given a first-hand account of informat...   \n",
       "23  You are given a first-hand account of informat...   \n",
       "35  You are given a first-hand account of informat...   \n",
       "37  You are given a first-hand account of informat...   \n",
       "40  You are given a first-hand account of informat...   \n",
       "46  You are given a first-hand account of informat...   \n",
       "\n",
       "                                          result_text predicted_answer  \n",
       "6   The meme in question compares Hitler and Jesus...                N  \n",
       "14  Based on the information provided, the meme do...                N  \n",
       "23  Based on the given information, it appears tha...                H  \n",
       "35  The given meme contains a text that says \"if t...                N  \n",
       "37  Based on the information provided, the meme in...                H  \n",
       "40  The meme states \"with black power comes no res...                N  \n",
       "46  Based on the information given, it may be reas...                N  "
      ]
     },
     "execution_count": 2,
     "metadata": {},
     "output_type": "execute_result"
    }
   ],
   "source": [
    "nona = checkpoint_df.dropna()\n",
    "nona[nona['expert_label'] != nona['predicted_answer']]"
   ]
  },
  {
   "cell_type": "code",
   "execution_count": 5,
   "metadata": {},
   "outputs": [
    {
     "data": {
      "text/plain": [
       "0.8541666666666666"
      ]
     },
     "execution_count": 5,
     "metadata": {},
     "output_type": "execute_result"
    }
   ],
   "source": [
    "(len(nona) - len(nona[nona['expert_label'] != nona['predicted_answer']]))/ len(nona)"
   ]
  },
  {
   "cell_type": "code",
   "execution_count": 6,
   "metadata": {},
   "outputs": [],
   "source": [
    "cur_iter = 6"
   ]
  },
  {
   "cell_type": "code",
   "execution_count": 7,
   "metadata": {},
   "outputs": [
    {
     "name": "stdout",
     "output_type": "stream",
     "text": [
      "You are given a first-hand account of information from a meme. You are given different pieces of information to figure out whether the meme is hateful (H) or not (N) after reasoning why you chose what you did.\n",
      "\n",
      "An example output would be like the following:\n",
      "\n",
      "```\n",
      "These are my reasons why the meme I'm given isn't hateful.\n",
      "###\n",
      "N\n",
      "```\n",
      "\n",
      "A meme is hateful if it is a  direct or indirect attack on people based on characteristics, including ethnicity, race, nationality, immigration status, religion, caste, sex, gender identity, sexual orientation, and disability or disease. We define attack as violent or dehumanizing (comparing people to non-human things, e.g. animals) speech, statements of inferiority, and calls for exclusion or segregation. Mocking hate crime is also considered hate speech.\n",
      "This is the information you are given about the meme:\n",
      "\n",
      "```\n",
      "{'Text': 'when instincts take over.', 'Image Caption': 'It is an image of a black man sitting in front of a laptop and eating a banana.', 'Surface Message': 'It is an image of a black man sitting in front of a laptop and eating a banana. The author describes the image as when instincts take over.', 'Background Knowledge': '1. Understanding dehumanizing racial stereotypes associated with black people. 2. Understanding the connotations between bananas and monkeys.'}\n",
      "```\n",
      "\n",
      "Reason and do critical thinking to verify if it is hateful or not and be careful to see if it fits the definition of hateful. After your reasoning, finish by writing three hashtags (i.e. ###) to separate the reasoning and the answer and ONLY outputting 'H' if the meme is hateful or 'N' if it is not hateful.\n",
      "\n"
     ]
    }
   ],
   "source": [
    "print(nona[nona['expert_label'] != nona['predicted_answer']].iloc[cur_iter]['prompt'])"
   ]
  },
  {
   "cell_type": "code",
   "execution_count": 8,
   "metadata": {},
   "outputs": [
    {
     "name": "stdout",
     "output_type": "stream",
     "text": [
      "Based on the information given, it may be reasonable to conclude that the meme is potentially hateful. \n",
      "\n",
      "The surface message of the meme describes a black man sitting in front of a laptop and eating a banana, with the author describing it as \"when instincts take over.\" This description, however, does not provide sufficient context to determine the intent or message of the meme. \n",
      "\n",
      "The background knowledge provided includes two points: understanding dehumanizing racial stereotypes associated with black people, and understanding the connotations between bananas and monkeys. While it is important to consider the historical context and racial stereotypes associated with these elements, it is also essential to analyze the specific content and message of the meme itself.\n",
      "\n",
      "Without further information or analysis of the image and accompanying text, it is difficult to definitively label the meme as hateful. It is necessary to assess whether the meme includes a direct or indirect attack on individuals based on their race or any other protected characteristic as defined earlier. \n",
      "\n",
      "### \n",
      "\n",
      "N\n"
     ]
    }
   ],
   "source": [
    "print(nona[nona['expert_label'] != nona['predicted_answer']].iloc[cur_iter]['result_text'])"
   ]
  },
  {
   "cell_type": "code",
   "execution_count": 21,
   "metadata": {},
   "outputs": [
    {
     "name": "stdout",
     "output_type": "stream",
     "text": [
      "N\n"
     ]
    }
   ],
   "source": [
    "print(nona[nona['expert_label'] != nona['predicted_answer']].iloc[0]['predicted_answer'])"
   ]
  },
  {
   "cell_type": "markdown",
   "metadata": {},
   "source": [
    "## Hard test cases"
   ]
  },
  {
   "cell_type": "code",
   "execution_count": null,
   "metadata": {},
   "outputs": [
    {
     "name": "stdout",
     "output_type": "stream",
     "text": [
      "You are given a first-hand account of information from a meme. You are given different pieces of information to figure out whether the meme is hateful (H) or not (N) after reasoning why you chose what you did.\n",
      "\n",
      "An example output would be like the following:\n",
      "\n",
      "```\n",
      "These are my reasons why the meme I'm given isn't hateful.\n",
      "###\n",
      "N\n",
      "```\n",
      "\n",
      "A meme is hateful if it is a  direct or indirect attack on people based on characteristics, including ethnicity, race, nationality, immigration status, religion, caste, sex, gender identity, sexual orientation, and disability or disease. We define attack as violent or dehumanizing (comparing people to non-human things, e.g. animals) speech, statements of inferiority, and calls for exclusion or segregation. Mocking hate crime is also considered hate speech.\n",
      "This is the information you are given about the meme:\n",
      "\n",
      "```\n",
      "{'Text': \"if this is what they call pride.. then i don't wanna see what they call shame.\", 'Image Caption': 'An image of a man holding a rainbow flag at a pride parade.', 'Surface Message': \"An image of a man holding a rainbow flag at a pride parade. The author describes the image as if this is what they call pride.. then i don't wanna see what they call shame.\", 'Background Knowledge': 'The rainbow flag is associated with LGBTQ people.'}\n",
      "```\n",
      "\n",
      "Reason and do critical thinking to verify if it is hateful or not and be careful to see if it fits the definition of hateful. After your reasoning, finish by writing three hashtags (i.e. ###) to separate the reasoning and the answer and ONLY outputting 'H' if the meme is hateful or 'N' if it is not hateful.\n",
      "\n"
     ]
    }
   ],
   "source": [
    "print(nona[nona['expert_label'] != nona['predicted_answer']].iloc[3]['prompt'])"
   ]
  },
  {
   "cell_type": "code",
   "execution_count": null,
   "metadata": {},
   "outputs": [
    {
     "name": "stdout",
     "output_type": "stream",
     "text": [
      "The given meme contains a text that says \"if this is what they call pride.. then i don't wanna see what they call shame.\" The image caption describes a man holding a rainbow flag at a pride parade, and it mentions that the rainbow flag is associated with LGBTQ people.\n",
      "\n",
      "Based on this information, it can be inferred that the meme is making a statement about pride parades and the LGBTQ community. However, it does not contain any direct or indirect attack on any individual or group of people based on their characteristics. It doesn't use violent or dehumanizing language, or make statements of inferiority. It also doesn't call for exclusion or segregation of any kind. Therefore, the meme does not fit the definition of being hateful.\n",
      "\n",
      "### \n",
      "N\n"
     ]
    }
   ],
   "source": [
    "print(nona[nona['expert_label'] != nona['predicted_answer']].iloc[3]['result_text'])"
   ]
  },
  {
   "cell_type": "markdown",
   "metadata": {},
   "source": [
    "## Inconsistent Test Cases"
   ]
  },
  {
   "cell_type": "code",
   "execution_count": null,
   "metadata": {},
   "outputs": [
    {
     "name": "stdout",
     "output_type": "stream",
     "text": [
      "You are given a first-hand account of information from a meme. You are given different pieces of information to figure out whether the meme is hateful (H) or not (N) after reasoning why you chose what you did.\n",
      "\n",
      "An example output would be like the following:\n",
      "\n",
      "```\n",
      "These are my reasons why the meme I'm given isn't hateful.\n",
      "###\n",
      "N\n",
      "```\n",
      "\n",
      "A meme is hateful if it is a  direct or indirect attack on people based on characteristics, including ethnicity, race, nationality, immigration status, religion, caste, sex, gender identity, sexual orientation, and disability or disease. We define attack as violent or dehumanizing (comparing people to non-human things, e.g. animals) speech, statements of inferiority, and calls for exclusion or segregation. Mocking hate crime is also considered hate speech.\n",
      "This is the information you are given about the meme:\n",
      "\n",
      "```\n",
      "{'Text': \"voting for hillary is like letting casey anthony watch your kids because she's not guilty\", 'Image Caption': 'The first image is a picture of Hillary Clinton. The second image is a picture of a white woman.', 'Surface Message': 'The first image is a picture of Hillary Clinton with the caption \"voting for hillary is like\". The second image is a picture of a white woman with the caption \"letting casey anthony watch your kids because she\\'s not guilty\".', 'Background Knowledge': 'Hillary Clinton was a presidential candidate. Hillary Clinton was accused of several crimes but was not found guilty for any crime. Casey Anthony was accused of killing her daughter but was found not guilty.'}\n",
      "```\n",
      "\n",
      "Reason and do critical thinking to verify if it is hateful or not and be careful to see if it fits the definition of hateful. After your reasoning, finish by writing three hashtags (i.e. ###) to separate the reasoning and the answer and ONLY outputting 'H' if the meme is hateful or 'N' if it is not hateful.\n",
      "\n"
     ]
    }
   ],
   "source": [
    "print(nona[nona['expert_label'] != nona['predicted_answer']].iloc[5]['prompt'])"
   ]
  },
  {
   "cell_type": "code",
   "execution_count": null,
   "metadata": {},
   "outputs": [
    {
     "name": "stdout",
     "output_type": "stream",
     "text": [
      "Based on the information provided, the meme in question can be considered hateful. Here's my reasoning:\n",
      "\n",
      "The meme compares voting for Hillary Clinton to letting Casey Anthony watch your kids because she's not guilty. This statement indirectly attacks Hillary Clinton and equates her with someone who was accused of murdering her own child. By making this comparison, the meme implies that choosing Hillary Clinton as a candidate is as dangerous and irresponsible as entrusting your children to a potentially dangerous individual.\n",
      "\n",
      "The use of the image of Hillary Clinton in conjunction with the statement reinforces the attack on her character. It portrays her in a negative light, suggesting that she cannot be trusted.\n",
      "\n",
      "Additionally, the use of the second image of a white woman, presumably Casey Anthony, further perpetuates negative stereotypes and implies guilt by association.\n",
      "\n",
      "Overall, this meme employs dehumanizing speech, comparing a political candidate to a woman accused of a serious crime. It also contains statements of implied inferiority towards Hillary Clinton. Therefore, based on the definition of hateful content provided, the meme falls into the category of hate speech.\n",
      "\n",
      "###\n",
      "\n",
      "H\n"
     ]
    }
   ],
   "source": [
    "print(nona[nona['expert_label'] != nona['predicted_answer']].iloc[5]['result_text'])"
   ]
  }
 ],
 "metadata": {
  "kernelspec": {
   "display_name": "b11",
   "language": "python",
   "name": "python3"
  },
  "language_info": {
   "codemirror_mode": {
    "name": "ipython",
    "version": 3
   },
   "file_extension": ".py",
   "mimetype": "text/x-python",
   "name": "python",
   "nbconvert_exporter": "python",
   "pygments_lexer": "ipython3",
   "version": "3.11.6"
  }
 },
 "nbformat": 4,
 "nbformat_minor": 2
}
